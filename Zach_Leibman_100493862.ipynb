{
 "cells": [
  {
   "cell_type": "code",
   "execution_count": 21,
   "id": "bc043a24-d549-431b-ba9d-05cb5a20193e",
   "metadata": {},
   "outputs": [
    {
     "name": "stdin",
     "output_type": "stream",
     "text": [
      "Enter your first number:  40\n",
      "Enter your second number:  10\n"
     ]
    },
    {
     "name": "stdout",
     "output_type": "stream",
     "text": [
      "Error: number 2 needs to be greater than number 1\n"
     ]
    },
    {
     "name": "stdin",
     "output_type": "stream",
     "text": [
      "Enter your first number:  35\n",
      "Enter your second number:  35\n"
     ]
    },
    {
     "name": "stdout",
     "output_type": "stream",
     "text": [
      "Error: number 2 needs to be greater than number 1\n"
     ]
    },
    {
     "name": "stdin",
     "output_type": "stream",
     "text": [
      "Enter your first number:  35\n",
      "Enter your second number:  36\n"
     ]
    },
    {
     "name": "stdout",
     "output_type": "stream",
     "text": [
      "inputs are valid\n"
     ]
    }
   ],
   "source": [
    "#Name: Zach Leibman\n",
    "#Creation date: 14/2/2025\n",
    "# Function 1 Overview:\n",
    "# This function prompts the user to enter two positive integers, validates the inputs,\n",
    "# and generates a list of all even numbers between them. It also calculates the sum,\n",
    "# average, and count of these even numbers, storing the results in a dictionary.\n",
    "#\n",
    "# Expected Input:\n",
    "# - Two positive integers (the second number must be greater than the first).\n",
    "#\n",
    "# Expected Output:\n",
    "# - A dictionary containing:\n",
    "#   1. The count of even numbers\n",
    "#   2. The sum of even numbers\n",
    "#   3. The average of even numbers\n",
    "\n",
    "\n",
    "def process_even_numbers ():\n",
    "    valid = False \n",
    "    while (valid == False): #loop for input validation\n",
    "        num1 = int(input(\"Enter your first number: \")) #input for both numbers\n",
    "        num2 = int(input(\"Enter your second number: \"))\n",
    "        if (num1 >= 0 and num2 >= 0):\n",
    "            if (num1 < num2):\n",
    "                print(\"inputs are valid\")\n",
    "                valid = True \n",
    "            else:\n",
    "                print(\"Error: number 2 needs to be greater than number 1\") #error prompt for user \n",
    "        else:\n",
    "            print(\"Error: numbers can't be negative\")\n",
    "\n",
    "process_even_numbers() #test fuction\n",
    "\n",
    "    "
   ]
  },
  {
   "cell_type": "code",
   "execution_count": null,
   "id": "f6c8e98f-2f8b-4a3c-8636-be3b93cc8cee",
   "metadata": {},
   "outputs": [],
   "source": []
  }
 ],
 "metadata": {
  "kernelspec": {
   "display_name": "Python [conda env:base] *",
   "language": "python",
   "name": "conda-base-py"
  },
  "language_info": {
   "codemirror_mode": {
    "name": "ipython",
    "version": 3
   },
   "file_extension": ".py",
   "mimetype": "text/x-python",
   "name": "python",
   "nbconvert_exporter": "python",
   "pygments_lexer": "ipython3",
   "version": "3.12.7"
  }
 },
 "nbformat": 4,
 "nbformat_minor": 5
}
